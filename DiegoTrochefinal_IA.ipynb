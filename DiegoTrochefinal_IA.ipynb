{
  "nbformat": 4,
  "nbformat_minor": 0,
  "metadata": {
    "colab": {
      "provenance": [],
      "authorship_tag": "ABX9TyPHPhbX6cOjae0RVFSEWkr/",
      "include_colab_link": true
    },
    "kernelspec": {
      "name": "python3",
      "display_name": "Python 3"
    },
    "language_info": {
      "name": "python"
    }
  },
  "cells": [
    {
      "cell_type": "markdown",
      "metadata": {
        "id": "view-in-github",
        "colab_type": "text"
      },
      "source": [
        "<a href=\"https://colab.research.google.com/github/Trota2000/IA-Final-/blob/main/DiegoTrochefinal_IA.ipynb\" target=\"_parent\"><img src=\"https://colab.research.google.com/assets/colab-badge.svg\" alt=\"Open In Colab\"/></a>"
      ]
    },
    {
      "cell_type": "code",
      "execution_count": 13,
      "metadata": {
        "colab": {
          "base_uri": "https://localhost:8080/",
          "height": 89
        },
        "id": "5q6ph8_nGf0w",
        "outputId": "69b69863-1a75-45c7-b187-40a4e96eabf2"
      },
      "outputs": [
        {
          "output_type": "display_data",
          "data": {
            "text/plain": [
              "<IPython.core.display.HTML object>"
            ],
            "text/html": [
              "\n",
              "     <input type=\"file\" id=\"files-c2583128-304d-49fa-b9d3-937694561c1e\" name=\"files[]\" multiple disabled\n",
              "        style=\"border:none\" />\n",
              "     <output id=\"result-c2583128-304d-49fa-b9d3-937694561c1e\">\n",
              "      Upload widget is only available when the cell has been executed in the\n",
              "      current browser session. Please rerun this cell to enable.\n",
              "      </output>\n",
              "      <script>// Copyright 2017 Google LLC\n",
              "//\n",
              "// Licensed under the Apache License, Version 2.0 (the \"License\");\n",
              "// you may not use this file except in compliance with the License.\n",
              "// You may obtain a copy of the License at\n",
              "//\n",
              "//      http://www.apache.org/licenses/LICENSE-2.0\n",
              "//\n",
              "// Unless required by applicable law or agreed to in writing, software\n",
              "// distributed under the License is distributed on an \"AS IS\" BASIS,\n",
              "// WITHOUT WARRANTIES OR CONDITIONS OF ANY KIND, either express or implied.\n",
              "// See the License for the specific language governing permissions and\n",
              "// limitations under the License.\n",
              "\n",
              "/**\n",
              " * @fileoverview Helpers for google.colab Python module.\n",
              " */\n",
              "(function(scope) {\n",
              "function span(text, styleAttributes = {}) {\n",
              "  const element = document.createElement('span');\n",
              "  element.textContent = text;\n",
              "  for (const key of Object.keys(styleAttributes)) {\n",
              "    element.style[key] = styleAttributes[key];\n",
              "  }\n",
              "  return element;\n",
              "}\n",
              "\n",
              "// Max number of bytes which will be uploaded at a time.\n",
              "const MAX_PAYLOAD_SIZE = 100 * 1024;\n",
              "\n",
              "function _uploadFiles(inputId, outputId) {\n",
              "  const steps = uploadFilesStep(inputId, outputId);\n",
              "  const outputElement = document.getElementById(outputId);\n",
              "  // Cache steps on the outputElement to make it available for the next call\n",
              "  // to uploadFilesContinue from Python.\n",
              "  outputElement.steps = steps;\n",
              "\n",
              "  return _uploadFilesContinue(outputId);\n",
              "}\n",
              "\n",
              "// This is roughly an async generator (not supported in the browser yet),\n",
              "// where there are multiple asynchronous steps and the Python side is going\n",
              "// to poll for completion of each step.\n",
              "// This uses a Promise to block the python side on completion of each step,\n",
              "// then passes the result of the previous step as the input to the next step.\n",
              "function _uploadFilesContinue(outputId) {\n",
              "  const outputElement = document.getElementById(outputId);\n",
              "  const steps = outputElement.steps;\n",
              "\n",
              "  const next = steps.next(outputElement.lastPromiseValue);\n",
              "  return Promise.resolve(next.value.promise).then((value) => {\n",
              "    // Cache the last promise value to make it available to the next\n",
              "    // step of the generator.\n",
              "    outputElement.lastPromiseValue = value;\n",
              "    return next.value.response;\n",
              "  });\n",
              "}\n",
              "\n",
              "/**\n",
              " * Generator function which is called between each async step of the upload\n",
              " * process.\n",
              " * @param {string} inputId Element ID of the input file picker element.\n",
              " * @param {string} outputId Element ID of the output display.\n",
              " * @return {!Iterable<!Object>} Iterable of next steps.\n",
              " */\n",
              "function* uploadFilesStep(inputId, outputId) {\n",
              "  const inputElement = document.getElementById(inputId);\n",
              "  inputElement.disabled = false;\n",
              "\n",
              "  const outputElement = document.getElementById(outputId);\n",
              "  outputElement.innerHTML = '';\n",
              "\n",
              "  const pickedPromise = new Promise((resolve) => {\n",
              "    inputElement.addEventListener('change', (e) => {\n",
              "      resolve(e.target.files);\n",
              "    });\n",
              "  });\n",
              "\n",
              "  const cancel = document.createElement('button');\n",
              "  inputElement.parentElement.appendChild(cancel);\n",
              "  cancel.textContent = 'Cancel upload';\n",
              "  const cancelPromise = new Promise((resolve) => {\n",
              "    cancel.onclick = () => {\n",
              "      resolve(null);\n",
              "    };\n",
              "  });\n",
              "\n",
              "  // Wait for the user to pick the files.\n",
              "  const files = yield {\n",
              "    promise: Promise.race([pickedPromise, cancelPromise]),\n",
              "    response: {\n",
              "      action: 'starting',\n",
              "    }\n",
              "  };\n",
              "\n",
              "  cancel.remove();\n",
              "\n",
              "  // Disable the input element since further picks are not allowed.\n",
              "  inputElement.disabled = true;\n",
              "\n",
              "  if (!files) {\n",
              "    return {\n",
              "      response: {\n",
              "        action: 'complete',\n",
              "      }\n",
              "    };\n",
              "  }\n",
              "\n",
              "  for (const file of files) {\n",
              "    const li = document.createElement('li');\n",
              "    li.append(span(file.name, {fontWeight: 'bold'}));\n",
              "    li.append(span(\n",
              "        `(${file.type || 'n/a'}) - ${file.size} bytes, ` +\n",
              "        `last modified: ${\n",
              "            file.lastModifiedDate ? file.lastModifiedDate.toLocaleDateString() :\n",
              "                                    'n/a'} - `));\n",
              "    const percent = span('0% done');\n",
              "    li.appendChild(percent);\n",
              "\n",
              "    outputElement.appendChild(li);\n",
              "\n",
              "    const fileDataPromise = new Promise((resolve) => {\n",
              "      const reader = new FileReader();\n",
              "      reader.onload = (e) => {\n",
              "        resolve(e.target.result);\n",
              "      };\n",
              "      reader.readAsArrayBuffer(file);\n",
              "    });\n",
              "    // Wait for the data to be ready.\n",
              "    let fileData = yield {\n",
              "      promise: fileDataPromise,\n",
              "      response: {\n",
              "        action: 'continue',\n",
              "      }\n",
              "    };\n",
              "\n",
              "    // Use a chunked sending to avoid message size limits. See b/62115660.\n",
              "    let position = 0;\n",
              "    do {\n",
              "      const length = Math.min(fileData.byteLength - position, MAX_PAYLOAD_SIZE);\n",
              "      const chunk = new Uint8Array(fileData, position, length);\n",
              "      position += length;\n",
              "\n",
              "      const base64 = btoa(String.fromCharCode.apply(null, chunk));\n",
              "      yield {\n",
              "        response: {\n",
              "          action: 'append',\n",
              "          file: file.name,\n",
              "          data: base64,\n",
              "        },\n",
              "      };\n",
              "\n",
              "      let percentDone = fileData.byteLength === 0 ?\n",
              "          100 :\n",
              "          Math.round((position / fileData.byteLength) * 100);\n",
              "      percent.textContent = `${percentDone}% done`;\n",
              "\n",
              "    } while (position < fileData.byteLength);\n",
              "  }\n",
              "\n",
              "  // All done.\n",
              "  yield {\n",
              "    response: {\n",
              "      action: 'complete',\n",
              "    }\n",
              "  };\n",
              "}\n",
              "\n",
              "scope.google = scope.google || {};\n",
              "scope.google.colab = scope.google.colab || {};\n",
              "scope.google.colab._files = {\n",
              "  _uploadFiles,\n",
              "  _uploadFilesContinue,\n",
              "};\n",
              "})(self);\n",
              "</script> "
            ]
          },
          "metadata": {}
        },
        {
          "output_type": "stream",
          "name": "stdout",
          "text": [
            "Saving El Imperio Final.txt to El Imperio Final.txt\n",
            "Archivo cargado, cantidad de caracteres: 1269221\n"
          ]
        }
      ],
      "source": [
        "# Paso 1: Subir archivo txt (El Imperio Final)\n",
        "from google.colab import files\n",
        "uploaded = files.upload()\n",
        "\n",
        "filename = list(uploaded.keys())[0]\n",
        "with open(filename, 'r', encoding='latin-1') as f:\n",
        "    text = f.read()\n",
        "\n",
        "print(\"Archivo cargado, cantidad de caracteres:\", len(text))"
      ]
    },
    {
      "cell_type": "code",
      "source": [
        "!python -m spacy download es_core_news_sm"
      ],
      "metadata": {
        "colab": {
          "base_uri": "https://localhost:8080/"
        },
        "id": "SWPBRCAQHpdx",
        "outputId": "3fda8477-8494-493d-bb8e-843b2ad1e818"
      },
      "execution_count": 14,
      "outputs": [
        {
          "output_type": "stream",
          "name": "stdout",
          "text": [
            "Collecting es-core-news-sm==3.8.0\n",
            "  Downloading https://github.com/explosion/spacy-models/releases/download/es_core_news_sm-3.8.0/es_core_news_sm-3.8.0-py3-none-any.whl (12.9 MB)\n",
            "\u001b[2K     \u001b[90m━━━━━━━━━━━━━━━━━━━━━━━━━━━━━━━━━━━━━━━━\u001b[0m \u001b[32m12.9/12.9 MB\u001b[0m \u001b[31m87.1 MB/s\u001b[0m eta \u001b[36m0:00:00\u001b[0m\n",
            "\u001b[?25hInstalling collected packages: es-core-news-sm\n",
            "Successfully installed es-core-news-sm-3.8.0\n",
            "\u001b[38;5;2m✔ Download and installation successful\u001b[0m\n",
            "You can now load the package via spacy.load('es_core_news_sm')\n",
            "\u001b[38;5;3m⚠ Restart to reload dependencies\u001b[0m\n",
            "If you are in a Jupyter or Colab notebook, you may need to restart Python in\n",
            "order to load all the package's dependencies. You can do this by selecting the\n",
            "'Restart kernel' or 'Restart runtime' option.\n"
          ]
        }
      ]
    },
    {
      "cell_type": "code",
      "source": [
        "# Paso 2: Preprocesamiento - Limpiar el dataset\n",
        "import re\n",
        "\n",
        "# Convertir a minúscula\n",
        "text = text.lower()\n",
        "\n",
        "# Limpiar caracteres especiales, números, guiones, puntuaciones\n",
        "cleaned_text = re.sub(r'[^\\w\\s]', '', text)\n",
        "cleaned_text = re.sub(r'\\d+', '', cleaned_text)  # eliminar números\n",
        "cleaned_text = re.sub(r'\\s+', ' ', cleaned_text).strip()  # eliminar espacios múltiples\n",
        "\n",
        "print(\"Texto limpio (primeros 500 caracteres):\")\n",
        "print(cleaned_text[:500])\n",
        "\n",
        "import spacy\n",
        "\n",
        "nlp = spacy.load(\"es_core_news_sm\")\n",
        "nlp.max_length = 1500000  # También podés probar a aumentar el límite\n",
        "\n",
        "def process_in_chunks(text, chunk_size=100000):\n",
        "    tokens = []\n",
        "    for i in range(0, len(text), chunk_size):\n",
        "        chunk = text[i:i+chunk_size]\n",
        "        doc = nlp(chunk)\n",
        "        meaningful_pos = {'NOUN', 'PROPN', 'VERB', 'ADJ'}\n",
        "        filtered = [token.text for token in doc if token.pos_ in meaningful_pos and not token.is_stop]\n",
        "        tokens.extend(filtered)\n",
        "    return tokens\n",
        "\n",
        "filtered_tokens = process_in_chunks(cleaned_text)\n",
        "\n",
        "print(f\"Tokens con significado propio tras procesar en chunks: {len(filtered_tokens)}\")\n",
        "print(\"Ejemplo tokens filtrados:\", filtered_tokens[:20])\n"
      ],
      "metadata": {
        "colab": {
          "base_uri": "https://localhost:8080/"
        },
        "id": "H3DaFsIpHBbY",
        "outputId": "8e7e590c-4517-492d-e9a0-a05d2ad46bda"
      },
      "execution_count": 16,
      "outputs": [
        {
          "output_type": "stream",
          "name": "stdout",
          "text": [
            "Texto limpio (primeros 500 caracteres):\n",
            "durante mil años han caído las cenizas y nada florece durante mil años los skaa han sido esclavizados y viven sumidos en un miedo inevitable durante mil años el lord legislador reina con un poder absoluto gracias al terror y a su divina invencibilidad le ayudan los obligadores y los inquisidores junto a la poderosa magia de la alomancia que reside en los nobles algunos sólo algunos son capaces de quemar los metales que han tragado y que les otorgan poderes sobrenaturales diferentes metales actua\n",
            "Tokens con significado propio tras procesar en chunks: 86636\n",
            "Ejemplo tokens filtrados: ['años', 'caído', 'cenizas', 'florece', 'años', 'skaa', 'esclavizados', 'viven', 'sumidos', 'miedo', 'inevitable', 'años', 'lord', 'legislador', 'reina', 'absoluto', 'terror', 'divina', 'invencibilidad', 'ayudan']\n"
          ]
        }
      ]
    },
    {
      "cell_type": "code",
      "source": [
        "# Paso 3: Tokenización y conteo\n",
        "from collections import Counter\n",
        "\n",
        "tokens = filtered_tokens\n",
        "word_count = len(tokens)\n",
        "word_freq = Counter(tokens)\n",
        "most_common_word, freq = word_freq.most_common(1)[0]\n",
        "\n",
        "print(f\"\\nCantidad total de palabras (filtradas): {word_count}\")\n",
        "print(f\"Palabra más frecuente con significado propio: '{most_common_word}' con {freq} repeticiones\")\n"
      ],
      "metadata": {
        "colab": {
          "base_uri": "https://localhost:8080/"
        },
        "id": "C6m4Ydp7HDoJ",
        "outputId": "98de7a9d-fe62-4bdf-890f-24a84d04bed8"
      },
      "execution_count": 17,
      "outputs": [
        {
          "output_type": "stream",
          "name": "stdout",
          "text": [
            "\n",
            "Cantidad total de palabras (filtradas): 86636\n",
            "Palabra más frecuente con significado propio: 'kelsier' con 2169 repeticiones\n"
          ]
        }
      ]
    },
    {
      "cell_type": "code",
      "source": [
        "# Paso 4: Vectorización TF-IDF con stopwords\n",
        "import nltk\n",
        "nltk.download('stopwords')\n",
        "from nltk.corpus import stopwords\n",
        "\n",
        "spanish_stopwords = stopwords.words('spanish')\n",
        "\n",
        "from sklearn.feature_extraction.text import TfidfVectorizer\n",
        "\n",
        "# Dividir en fragmentos de 500 palabras para análisis\n",
        "chunks = [' '.join(tokens[i:i+500]) for i in range(0, len(tokens), 500)]\n",
        "\n",
        "vectorizer = TfidfVectorizer(stop_words=spanish_stopwords)\n",
        "X = vectorizer.fit_transform(chunks)\n",
        "\n",
        "print(f\"\\nCantidad de fragmentos vectorizados: {X.shape[0]}\")"
      ],
      "metadata": {
        "colab": {
          "base_uri": "https://localhost:8080/"
        },
        "id": "HkZuN85UHG_x",
        "outputId": "421d0afa-72d4-4ba3-b464-7fd8f5e0166f"
      },
      "execution_count": 18,
      "outputs": [
        {
          "output_type": "stream",
          "name": "stderr",
          "text": [
            "[nltk_data] Downloading package stopwords to /root/nltk_data...\n",
            "[nltk_data]   Unzipping corpora/stopwords.zip.\n"
          ]
        },
        {
          "output_type": "stream",
          "name": "stdout",
          "text": [
            "\n",
            "Cantidad de fragmentos vectorizados: 174\n"
          ]
        }
      ]
    },
    {
      "cell_type": "code",
      "source": [
        "\n",
        "# Paso 5: Clustering KMeans para análisis temático\n",
        "from sklearn.cluster import KMeans\n",
        "import matplotlib.pyplot as plt\n",
        "import numpy as np\n",
        "\n",
        "num_clusters = 5\n",
        "kmeans = KMeans(n_clusters=num_clusters, random_state=42)\n",
        "kmeans.fit(X)\n",
        "\n",
        "plt.figure(figsize=(6,4))\n",
        "plt.hist(kmeans.labels_, bins=num_clusters, color='skyblue', rwidth=0.8)\n",
        "plt.title(\"Distribución de temas en el libro\")\n",
        "plt.xlabel(\"Tema (Cluster)\")\n",
        "plt.ylabel(\"Cantidad de fragmentos\")\n",
        "plt.grid(True)\n",
        "plt.show()\n"
      ],
      "metadata": {
        "colab": {
          "base_uri": "https://localhost:8080/",
          "height": 410
        },
        "id": "loEsAs1dHJQ4",
        "outputId": "881d08b9-d4a3-45d2-fbd7-7520e61901b6"
      },
      "execution_count": 19,
      "outputs": [
        {
          "output_type": "display_data",
          "data": {
            "text/plain": [
              "<Figure size 600x400 with 1 Axes>"
            ],
            "image/png": "[encoded data removed]"
          },
          "metadata": {}
        }
      ]
    },
    {
      "cell_type": "code",
      "source": [
        "\n",
        "# Paso 6: Queries simples para interactividad\n",
        "def interactive_queries():\n",
        "    while True:\n",
        "        print(\"\\n\" + \"=\"*50)\n",
        "        print(\"💬 SISTEMA DE PREGUNTAS Y RESPUESTAS\")\n",
        "        print(\"=\"*50)\n",
        "        print(\"Escribe 'salir' para terminar.\")\n",
        "        print(\"1) ¿Cuántas palabras tiene el texto (filtrado)?\")\n",
        "        print(\"2) ¿Cuál es la palabra más repetida del texto?\")\n",
        "        print(\"3) ¿Cuáles son las palabras clave por tema?\")\n",
        "        print(\"4) ¿Cuál es el contexto principal del libro?\")\n",
        "        print(\"5) ¿Cuántos temas fueron identificados en el libro?\")\n",
        "        print(\"6) ¿Cuáles son las palabras más frecuentes en el texto?\")\n",
        "        print(\"7) ¿Cuáles son las palabras clave más importantes de un tema específico?\")\n",
        "        print(\"8) ¿Cuáles son los fragmentos más representativos de un tema específico?\")\n",
        "\n",
        "        question = input(\"🤔 Tu pregunta: \").strip().lower()\n",
        "\n",
        "        if question == \"salir\":\n",
        "            print(\"👋 ¡Hasta luego!\")\n",
        "            break\n",
        "        elif \"cuántas palabras\" in question:\n",
        "            print(f\"Cantidad total de palabras (filtradas): {word_count}\")\n",
        "        elif \"palabra más repetida\" in question:\n",
        "            print(f\"La palabra más repetida es '{most_common_word}' con {freq} repeticiones.\")\n",
        "        elif \"palabras clave por tema\" in question:\n",
        "            for i in range(num_clusters):\n",
        "                cluster_idx = np.where(kmeans.labels_ == i)[0]\n",
        "                cluster_tfidf = X[cluster_idx].mean(axis=0)\n",
        "                top_indices = np.argsort(cluster_tfidf).flatten()[::-1][:10]\n",
        "                print(f\"Tema {i+1}: \", [str(vectorizer.get_feature_names_out()[idx]) for idx in top_indices])\n",
        "        elif \"contexto principal\" in question:\n",
        "            print(\"El contexto principal del libro puede ser explorado a través de los temas identificados por clustering.\")\n",
        "        elif \"cuántos temas\" in question:\n",
        "            print(f\"Se han identificado {num_clusters} temas principales en el libro.\")\n",
        "        elif \"palabras más frecuentes\" in question:\n",
        "            print(f\"Las 10 palabras más frecuentes en el texto son:\")\n",
        "            for word, count in word_freq.most_common(10):\n",
        "                print(f\"{word}: {count} veces\")\n",
        "        elif \"palabras clave más importantes\" in question:\n",
        "            topic = input(\"¿De qué tema específico deseas saber las palabras clave? (Ejemplo: Tema 1): \").strip().lower()\n",
        "            try:\n",
        "                topic_num = int(topic.split()[-1]) - 1  # Convertir 'Tema 1' a índice 0, 'Tema 2' a índice 1, etc.\n",
        "                cluster_idx = np.where(kmeans.labels_ == topic_num)[0]\n",
        "                cluster_tfidf = X[cluster_idx].mean(axis=0)\n",
        "                top_indices = np.argsort(cluster_tfidf).flatten()[::-1][:10]\n",
        "                print(f\"Palabras clave más importantes de {topic}: \", [str(vectorizer.get_feature_names_out()[idx]) for idx in top_indices])\n",
        "            except Exception as e:\n",
        "                print(f\"❌ Error: {e}. Asegúrate de ingresar el tema de manera correcta.\")\n",
        "        elif \"fragmentos más representativos\" in question:\n",
        "            topic = input(\"¿De qué tema específico deseas saber los fragmentos representativos? (Ejemplo: Tema 1): \").strip().lower()\n",
        "            try:\n",
        "                topic_num = int(topic.split()[-1]) - 1  # Convertir 'Tema 1' a índice 0, 'Tema 2' a índice 1, etc.\n",
        "                cluster_idx = np.where(kmeans.labels_ == topic_num)[0]\n",
        "                print(f\"Los fragmentos más representativos de {topic} son:\")\n",
        "                for idx in cluster_idx[:5]:  # Mostrar los primeros 5 fragmentos representativos\n",
        "                    print(f\"Fragmento {idx + 1}: {chunks[idx][:200]}...\")  # Mostrar solo los primeros 200 caracteres de cada fragmento\n",
        "            except Exception as e:\n",
        "                print(f\"❌ Error: {e}. Asegúrate de ingresar el tema de manera correcta.\")\n",
        "        else:\n",
        "            print(\"❌ No entiendo la pregunta. Intenta con otra.\")\n"
      ],
      "metadata": {
        "id": "iKVdhrFwHMKR"
      },
      "execution_count": 20,
      "outputs": []
    },
    {
      "cell_type": "code",
      "source": [
        "# Paso 7: Ejecutar las consultas interactivas\n",
        "interactive_queries()"
      ],
      "metadata": {
        "colab": {
          "base_uri": "https://localhost:8080/",
          "height": 529
        },
        "id": "m8yUiNrfHNJQ",
        "outputId": "65f4f1d7-3d78-4242-8ab5-a1b2ceace383"
      },
      "execution_count": 21,
      "outputs": [
        {
          "output_type": "stream",
          "name": "stdout",
          "text": [
            "\n",
            "==================================================\n",
            "💬 SISTEMA DE PREGUNTAS Y RESPUESTAS\n",
            "==================================================\n",
            "Escribe 'salir' para terminar.\n",
            "1) ¿Cuántas palabras tiene el texto (filtrado)?\n",
            "2) ¿Cuál es la palabra más repetida del texto?\n",
            "3) ¿Cuáles son las palabras clave por tema?\n",
            "4) ¿Cuál es el contexto principal del libro?\n",
            "5) ¿Cuántos temas fueron identificados en el libro?\n",
            "6) ¿Cuáles son las palabras más frecuentes en el texto?\n",
            "7) ¿Cuáles son las palabras clave más importantes de un tema específico?\n",
            "8) ¿Cuáles son los fragmentos más representativos de un tema específico?\n"
          ]
        },
        {
          "output_type": "error",
          "ename": "KeyboardInterrupt",
          "evalue": "Interrupted by user",
          "traceback": [
            "\u001b[0;31m---------------------------------------------------------------------------\u001b[0m",
            "\u001b[0;31mKeyboardInterrupt\u001b[0m                         Traceback (most recent call last)",
            "\u001b[0;32m/tmp/ipython-input-21-1069724318.py\u001b[0m in \u001b[0;36m<cell line: 0>\u001b[0;34m()\u001b[0m\n\u001b[1;32m      1\u001b[0m \u001b[0;31m# Paso 7: Ejecutar las consultas interactivas\u001b[0m\u001b[0;34m\u001b[0m\u001b[0;34m\u001b[0m\u001b[0m\n\u001b[0;32m----> 2\u001b[0;31m \u001b[0minteractive_queries\u001b[0m\u001b[0;34m(\u001b[0m\u001b[0;34m)\u001b[0m\u001b[0;34m\u001b[0m\u001b[0;34m\u001b[0m\u001b[0m\n\u001b[0m",
            "\u001b[0;32m/tmp/ipython-input-20-1381106830.py\u001b[0m in \u001b[0;36minteractive_queries\u001b[0;34m()\u001b[0m\n\u001b[1;32m     15\u001b[0m         \u001b[0mprint\u001b[0m\u001b[0;34m(\u001b[0m\u001b[0;34m\"8) ¿Cuáles son los fragmentos más representativos de un tema específico?\"\u001b[0m\u001b[0;34m)\u001b[0m\u001b[0;34m\u001b[0m\u001b[0;34m\u001b[0m\u001b[0m\n\u001b[1;32m     16\u001b[0m \u001b[0;34m\u001b[0m\u001b[0m\n\u001b[0;32m---> 17\u001b[0;31m         \u001b[0mquestion\u001b[0m \u001b[0;34m=\u001b[0m \u001b[0minput\u001b[0m\u001b[0;34m(\u001b[0m\u001b[0;34m\"🤔 Tu pregunta: \"\u001b[0m\u001b[0;34m)\u001b[0m\u001b[0;34m.\u001b[0m\u001b[0mstrip\u001b[0m\u001b[0;34m(\u001b[0m\u001b[0;34m)\u001b[0m\u001b[0;34m.\u001b[0m\u001b[0mlower\u001b[0m\u001b[0;34m(\u001b[0m\u001b[0;34m)\u001b[0m\u001b[0;34m\u001b[0m\u001b[0;34m\u001b[0m\u001b[0m\n\u001b[0m\u001b[1;32m     18\u001b[0m \u001b[0;34m\u001b[0m\u001b[0m\n\u001b[1;32m     19\u001b[0m         \u001b[0;32mif\u001b[0m \u001b[0mquestion\u001b[0m \u001b[0;34m==\u001b[0m \u001b[0;34m\"salir\"\u001b[0m\u001b[0;34m:\u001b[0m\u001b[0;34m\u001b[0m\u001b[0;34m\u001b[0m\u001b[0m\n",
            "\u001b[0;32m/usr/local/lib/python3.11/dist-packages/ipykernel/kernelbase.py\u001b[0m in \u001b[0;36mraw_input\u001b[0;34m(self, prompt)\u001b[0m\n\u001b[1;32m   1175\u001b[0m                 \u001b[0;34m\"raw_input was called, but this frontend does not support input requests.\"\u001b[0m\u001b[0;34m\u001b[0m\u001b[0;34m\u001b[0m\u001b[0m\n\u001b[1;32m   1176\u001b[0m             )\n\u001b[0;32m-> 1177\u001b[0;31m         return self._input_request(\n\u001b[0m\u001b[1;32m   1178\u001b[0m             \u001b[0mstr\u001b[0m\u001b[0;34m(\u001b[0m\u001b[0mprompt\u001b[0m\u001b[0;34m)\u001b[0m\u001b[0;34m,\u001b[0m\u001b[0;34m\u001b[0m\u001b[0;34m\u001b[0m\u001b[0m\n\u001b[1;32m   1179\u001b[0m             \u001b[0mself\u001b[0m\u001b[0;34m.\u001b[0m\u001b[0m_parent_ident\u001b[0m\u001b[0;34m[\u001b[0m\u001b[0;34m\"shell\"\u001b[0m\u001b[0;34m]\u001b[0m\u001b[0;34m,\u001b[0m\u001b[0;34m\u001b[0m\u001b[0;34m\u001b[0m\u001b[0m\n",
            "\u001b[0;32m/usr/local/lib/python3.11/dist-packages/ipykernel/kernelbase.py\u001b[0m in \u001b[0;36m_input_request\u001b[0;34m(self, prompt, ident, parent, password)\u001b[0m\n\u001b[1;32m   1217\u001b[0m             \u001b[0;32mexcept\u001b[0m \u001b[0mKeyboardInterrupt\u001b[0m\u001b[0;34m:\u001b[0m\u001b[0;34m\u001b[0m\u001b[0;34m\u001b[0m\u001b[0m\n\u001b[1;32m   1218\u001b[0m                 \u001b[0;31m# re-raise KeyboardInterrupt, to truncate traceback\u001b[0m\u001b[0;34m\u001b[0m\u001b[0;34m\u001b[0m\u001b[0m\n\u001b[0;32m-> 1219\u001b[0;31m                 \u001b[0;32mraise\u001b[0m \u001b[0mKeyboardInterrupt\u001b[0m\u001b[0;34m(\u001b[0m\u001b[0;34m\"Interrupted by user\"\u001b[0m\u001b[0;34m)\u001b[0m \u001b[0;32mfrom\u001b[0m \u001b[0;32mNone\u001b[0m\u001b[0;34m\u001b[0m\u001b[0;34m\u001b[0m\u001b[0m\n\u001b[0m\u001b[1;32m   1220\u001b[0m             \u001b[0;32mexcept\u001b[0m \u001b[0mException\u001b[0m\u001b[0;34m:\u001b[0m\u001b[0;34m\u001b[0m\u001b[0;34m\u001b[0m\u001b[0m\n\u001b[1;32m   1221\u001b[0m                 \u001b[0mself\u001b[0m\u001b[0;34m.\u001b[0m\u001b[0mlog\u001b[0m\u001b[0;34m.\u001b[0m\u001b[0mwarning\u001b[0m\u001b[0;34m(\u001b[0m\u001b[0;34m\"Invalid Message:\"\u001b[0m\u001b[0;34m,\u001b[0m \u001b[0mexc_info\u001b[0m\u001b[0;34m=\u001b[0m\u001b[0;32mTrue\u001b[0m\u001b[0;34m)\u001b[0m\u001b[0;34m\u001b[0m\u001b[0;34m\u001b[0m\u001b[0m\n",
            "\u001b[0;31mKeyboardInterrupt\u001b[0m: Interrupted by user"
          ]
        }
      ]
    },
    {
      "cell_type": "code",
      "source": [
        "#Paso 8: Análisis temático - palabras clave por cluster\n",
        "\n",
        "terms = vectorizer.get_feature_names_out()\n",
        "\n",
        "cluster_keywords = {}\n",
        "for i in range(num_clusters):\n",
        "    cluster_idx = np.where(kmeans.labels_ == i)[0]\n",
        "    cluster_tfidf = X[cluster_idx].mean(axis=0)\n",
        "    top_indices = np.argsort(cluster_tfidf).flatten()[::-1][:10]\n",
        "    cluster_keywords[f\"Tema {i+1}\"] = [str(terms[i]) for i in top_indices]\n",
        "\n",
        "print(\"\\nPalabras clave por tema:\")\n",
        "for tema, palabras in cluster_keywords.items():\n",
        "    print(f\"\\n🔹 {tema}:\")\n",
        "    print(\", \".join(palabras))"
      ],
      "metadata": {
        "colab": {
          "base_uri": "https://localhost:8080/"
        },
        "id": "Qj3KpiYcHOVZ",
        "outputId": "a3f3b3c5-1cdc-49d9-ee23-dfd22facef7a"
      },
      "execution_count": 22,
      "outputs": [
        {
          "output_type": "stream",
          "name": "stdout",
          "text": [
            "\n",
            "Palabras clave por tema:\n",
            "\n",
            "🔹 Tema 1:\n",
            "[['transigido' 'dejándolo' 'dejándoles' ... 'camon' 'vin' 'kelsier']]\n",
            "\n",
            "🔹 Tema 2:\n",
            "[['maltrechos' 'malhumorada' 'maliciosa' ... 'venture' 'vin' 'elend']]\n",
            "\n",
            "🔹 Tema 3:\n",
            "[['ex' 'recorrido' 'recorriendo' ... 'dockson' 'brisa' 'kelsier']]\n",
            "\n",
            "🔹 Tema 4:\n",
            "[['mina' 'migajas' 'milagro' ... 'soldados' 'inquisidor' 'kelsier']]\n",
            "\n",
            "🔹 Tema 5:\n",
            "[['malditos' 'malignidad' 'maligna' ... 'lord' 'legislador' 'marsh']]\n"
          ]
        }
      ]
    },
    {
      "cell_type": "code",
      "source": [
        "\n",
        "# Paso 9: Gráfico de palabras más frecuentes\n",
        "import pandas as pd\n",
        "\n",
        "top_words = word_freq.most_common(10)\n",
        "df_top = pd.DataFrame(top_words, columns=[\"Palabra\", \"Frecuencia\"])\n",
        "\n",
        "plt.figure(figsize=(8,4))\n",
        "plt.bar(df_top[\"Palabra\"], df_top[\"Frecuencia\"], color='orange')\n",
        "plt.title(\"Top 10 palabras más frecuentes con significado propio\")\n",
        "plt.xlabel(\"Palabra\")\n",
        "plt.ylabel(\"Frecuencia\")\n",
        "plt.grid(True)\n",
        "plt.show()\n",
        "\n",
        "# Conclusión corta, concisa y directa\n",
        "print(\"\"\"\n",
        "📌 CONCLUSIÓN:\n",
        "El libro 'El Imperio Final' contiene aproximadamente {0} palabras significativas filtradas, lo que ayuda a centrar el análisis en vocabulario relevante.\n",
        "El análisis temático mediante clustering identificó 5 tópicos principales con palabras clave bien definidas.\n",
        "El mini resumen automático brinda un panorama del contenido inicial.\n",
        "Esta metodología facilita comprender y explorar grandes textos sin depender de APIs externas.\n",
        "\"\"\".format(word_count))"
      ],
      "metadata": {
        "colab": {
          "base_uri": "https://localhost:8080/",
          "height": 552
        },
        "id": "9dORF5UIHQ8B",
        "outputId": "c600126c-b3a6-4071-ca58-f95e36914d2a"
      },
      "execution_count": 23,
      "outputs": [
        {
          "output_type": "display_data",
          "data": {
            "text/plain": [
              "<Figure size 800x400 with 1 Axes>"
            ],
            "image/png": "[encoded data removed]"
          },
          "metadata": {}
        },
        {
          "output_type": "stream",
          "name": "stdout",
          "text": [
            "\n",
            "📌 CONCLUSIÓN:\n",
            "El libro 'El Imperio Final' contiene aproximadamente 86636 palabras significativas filtradas, lo que ayuda a centrar el análisis en vocabulario relevante.\n",
            "El análisis temático mediante clustering identificó 5 tópicos principales con palabras clave bien definidas.\n",
            "El mini resumen automático brinda un panorama del contenido inicial.\n",
            "Esta metodología facilita comprender y explorar grandes textos sin depender de APIs externas.\n",
            "\n"
          ]
        }
      ]
    }
  ]
}